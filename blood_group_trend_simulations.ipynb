{
 "cells": [
  {
   "cell_type": "code",
   "execution_count": 1,
   "metadata": {},
   "outputs": [
    {
     "name": "stdout",
     "output_type": "stream",
     "text": [
      "['a', 'o', 'a', 'b', 'o', 'ab', 'ab', 'b', 'o', 'b', 'o', 'o', 'b', 'o', 'o', 'b', 'b', 'a', 'ab', 'o', 'o', 'a', 'a', 'ab', 'o', 'b', 'o', 'ab', 'a', 'b', 'a', 'b', 'b', 'a', 'o', 'o', 'b', 'o', 'o', 'b', 'a', 'a', 'b', 'o', 'o', 'o', 'a', 'b', 'ab', 'a', 'o', 'b', 'ab', 'ab', 'b', 'o', 'o', 'o', 'o', 'b', 'o', 'b', 'ab', 'b', 'a', 'o', 'b', 'a', 'o', 'a', 'a', 'o', 'a', 'b', 'o', 'b', 'o', 'b', 'ab', 'b', 'o', 'o', 'b', 'o', 'o', 'b', 'b', 'b', 'o', 'a', 'o', 'a', 'a', 'b', 'o', 'o', 'o', 'o', 'a', 'o']\n",
      "100\n"
     ]
    }
   ],
   "source": [
    "import random as rd\n",
    "import numpy as np\n",
    "\n",
    "# random sample of 100 people\n",
    "sample = []\n",
    "for i in range(0,100):\n",
    "    if rd.random() <= 0.25:\n",
    "        sample.append(\"a\")\n",
    "    elif 0.25 < rd.random() <= 0.5:\n",
    "        sample.append(\"b\")\n",
    "    elif 0.5 < rd.random() <= 0.75:\n",
    "        sample.append(\"ab\")\n",
    "    else:\n",
    "        sample.append(\"o\")\n",
    "\n",
    "\n",
    "print(sample)\n",
    "print(len(sample))"
   ]
  },
  {
   "cell_type": "code",
   "execution_count": 14,
   "metadata": {},
   "outputs": [
    {
     "name": "stdout",
     "output_type": "stream",
     "text": [
      "[['a' 'o']\n",
      " ['a' 'b']\n",
      " ['o' 'ab']\n",
      " ['ab' 'b']\n",
      " ['o' 'b']\n",
      " ['o' 'o']\n",
      " ['b' 'o']\n",
      " ['o' 'b']\n",
      " ['b' 'a']\n",
      " ['ab' 'o']\n",
      " ['o' 'a']\n",
      " ['a' 'ab']\n",
      " ['o' 'b']\n",
      " ['o' 'ab']\n",
      " ['a' 'b']\n",
      " ['a' 'b']\n",
      " ['b' 'a']\n",
      " ['o' 'o']\n",
      " ['b' 'o']\n",
      " ['o' 'b']\n",
      " ['a' 'a']\n",
      " ['b' 'o']\n",
      " ['o' 'o']\n",
      " ['a' 'b']\n",
      " ['ab' 'a']\n",
      " ['o' 'b']\n",
      " ['ab' 'ab']\n",
      " ['b' 'o']\n",
      " ['o' 'o']\n",
      " ['o' 'b']\n",
      " ['o' 'b']\n",
      " ['ab' 'b']\n",
      " ['a' 'o']\n",
      " ['b' 'a']\n",
      " ['o' 'a']\n",
      " ['a' 'o']\n",
      " ['a' 'b']\n",
      " ['o' 'b']\n",
      " ['o' 'b']\n",
      " ['ab' 'b']\n",
      " ['o' 'o']\n",
      " ['b' 'o']\n",
      " ['o' 'b']\n",
      " ['b' 'b']\n",
      " ['o' 'a']\n",
      " ['o' 'a']\n",
      " ['a' 'b']\n",
      " ['o' 'o']\n",
      " ['o' 'o']\n",
      " ['a' 'o']]\n"
     ]
    }
   ],
   "source": [
    "couple = np.array(sample).reshape(50,2)\n",
    "print(couple)"
   ]
  }
 ],
 "metadata": {
  "kernelspec": {
   "display_name": "blood_group_trend",
   "language": "python",
   "name": "python3"
  },
  "language_info": {
   "codemirror_mode": {
    "name": "ipython",
    "version": 3
   },
   "file_extension": ".py",
   "mimetype": "text/x-python",
   "name": "python",
   "nbconvert_exporter": "python",
   "pygments_lexer": "ipython3",
   "version": "3.11.4"
  },
  "orig_nbformat": 4
 },
 "nbformat": 4,
 "nbformat_minor": 2
}
