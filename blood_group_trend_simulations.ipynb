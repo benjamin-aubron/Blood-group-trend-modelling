{
 "cells": [
  {
   "cell_type": "code",
   "execution_count": 297,
   "metadata": {},
   "outputs": [
    {
     "name": "stdout",
     "output_type": "stream",
     "text": [
      "['A' 'O']\n"
     ]
    }
   ],
   "source": [
    "import random as rd\n",
    "import numpy as np\n",
    "\n",
    "# random sample of 100 people with equal quantity of A, B, AB, O\n",
    "sample = []\n",
    "for i in range(0,100):\n",
    "    randomNumber = rd.random()\n",
    "    if randomNumber <= 0.25:\n",
    "        sample.append(\"A\")\n",
    "    elif 0.25 < randomNumber <= 0.5:\n",
    "        sample.append(\"B\")\n",
    "    elif 0.5 < randomNumber <= 0.75:\n",
    "        sample.append(\"AB\")\n",
    "    else:\n",
    "        sample.append(\"O\")\n",
    "\n",
    "# print(sample)\n",
    "# print(len(sample))\n",
    "\n",
    "# random couples\n",
    "couples = np.array(sample).reshape(50,2)\n",
    "# print(couples)\n",
    "\n",
    "# probabilist matrix\n",
    "print(couples[0])\n",
    "\n"
   ]
  },
  {
   "cell_type": "code",
   "execution_count": 298,
   "metadata": {},
   "outputs": [
    {
     "name": "stdout",
     "output_type": "stream",
     "text": [
      "0.9036964462458955\n",
      "O\n"
     ]
    }
   ],
   "source": [
    "rand = rd.random()\n",
    "print(rand)\n",
    "if rand <= 0.25:\n",
    "    print(\"A\")\n",
    "elif 0.25 < rand <= 0.5:\n",
    "    print(\"B\")\n",
    "elif 0.5 < rand <= 0.75:\n",
    "    print(\"AB\")\n",
    "else:\n",
    "    print(\"O\")"
   ]
  },
  {
   "cell_type": "code",
   "execution_count": 299,
   "metadata": {},
   "outputs": [
    {
     "name": "stdout",
     "output_type": "stream",
     "text": [
      "Groupe A:24  Groupe B:31  Groupe AB:24  Groupe O:21\n"
     ]
    }
   ],
   "source": [
    "a = sample.count(\"A\")\n",
    "b = sample.count(\"B\")\n",
    "ab = sample.count(\"AB\")\n",
    "o = sample.count(\"O\")\n",
    "print(\"Groupe A:\"+str(a), \" Groupe B:\"+str(b), \" Groupe AB:\"+str(ab), \" Groupe O:\"+str(o))"
   ]
  },
  {
   "cell_type": "code",
   "execution_count": 300,
   "metadata": {},
   "outputs": [
    {
     "name": "stdout",
     "output_type": "stream",
     "text": [
      "AO\n"
     ]
    }
   ],
   "source": [
    "# ten possible combinations\n",
    "if \"\".join(couples[0]) == \"AA\":\n",
    "  print(\"AA\")\n",
    "elif \"\".join(couples[0]) == \"AB\" or \"\".join(couples[0]) == \"BA\":\n",
    "  print(\"AB\")\n",
    "elif \"\".join(couples[0]) == \"AAB\" or \"\".join(couples[0]) == \"ABA\":\n",
    "  print(\"AAB\")\n",
    "elif \"\".join(couples[0]) == \"AO\" or \"\".join(couples[0]) == \"OA\":\n",
    "  print(\"AO\")\n",
    "elif \"\".join(couples[0]) == \"BB\":\n",
    "  print(\"BB\")\n",
    "elif \"\".join(couples[0]) == \"BO\" or \"\".join(couples[0]) == \"OB\":\n",
    "  print(\"BO\")\n",
    "elif \"\".join(couples[0]) == \"BAB\" or \"\".join(couples[0]) == \"ABB\":\n",
    "  print(\"BAB\")\n",
    "elif \"\".join(couples[0]) == \"OO\":\n",
    "  print(\"OO\")\n",
    "elif \"\".join(couples[0]) == \"OAB\" or \"\".join(couples[0]) == \"BAO\":\n",
    "  print(\"OAB\")\n",
    "elif \"\".join(couples[0]) == \"ABAB\":\n",
    "  print(\"ABAB\")\n",
    "else:\n",
    "  print(\"Erreur\")\n",
    "\n"
   ]
  },
  {
   "cell_type": "code",
   "execution_count": 301,
   "metadata": {},
   "outputs": [
    {
     "name": "stdout",
     "output_type": "stream",
     "text": [
      "Groupe A:24  Groupe B:31  Groupe AB:24  Groupe O:21\n"
     ]
    }
   ],
   "source": [
    "a = couples.reshape(100,1).flatten().tolist().count(\"A\")\n",
    "b = couples.reshape(100,1).flatten().tolist().count(\"B\")\n",
    "ab = couples.reshape(100,1).flatten().tolist().count(\"AB\")\n",
    "o = couples.reshape(100,1).flatten().tolist().count(\"O\")\n",
    "print(\"Groupe A:\"+str(a), \" Groupe B:\"+str(b), \" Groupe AB:\"+str(ab), \" Groupe O:\"+str(o))"
   ]
  }
 ],
 "metadata": {
  "kernelspec": {
   "display_name": "blood_group_trend",
   "language": "python",
   "name": "python3"
  },
  "language_info": {
   "codemirror_mode": {
    "name": "ipython",
    "version": 3
   },
   "file_extension": ".py",
   "mimetype": "text/x-python",
   "name": "python",
   "nbconvert_exporter": "python",
   "pygments_lexer": "ipython3",
   "version": "3.11.4"
  },
  "orig_nbformat": 4
 },
 "nbformat": 4,
 "nbformat_minor": 2
}
